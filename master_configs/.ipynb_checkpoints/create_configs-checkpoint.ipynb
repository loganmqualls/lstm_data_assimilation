{
 "cells": [
  {
   "cell_type": "code",
   "execution_count": 3,
   "metadata": {},
   "outputs": [],
   "source": [
    "from pathlib import Path\n",
    "import numpy as np"
   ]
  },
  {
   "cell_type": "code",
   "execution_count": 13,
   "metadata": {},
   "outputs": [],
   "source": [
    "n_ensemble = 1\n",
    "seeds = list(range(n_ensemble))\n",
    "lead_times = [1, 2, 3, 5, 7, 10]\n",
    "holdout_fractions = np.round(np.linspace(0, 1, 11)[:-1] * 10) / 10"
   ]
  },
  {
   "cell_type": "code",
   "execution_count": 4,
   "metadata": {},
   "outputs": [],
   "source": [
    "master_config = \"/home/gsnearing/projects/data_assimilation/master_configs/simulation_config.yml\"\n",
    "for seed in seeds:\n",
    "    with open(master_config, 'r') as f:\n",
    "        filedata = f.read()\n",
    "    filedata = filedata.replace(\"seed:\", f\"seed: {seed}\")\n",
    "    filedata = filedata.replace(\"experiment_name:\", f\"experiment_name: simulation_{seed}\")\n",
    "    new_config = f\"/home/gsnearing/projects/data_assimilation/run_configs/simulation/simulation_{seed}.yml\"\n",
    "    with open(new_config, 'w') as f:\n",
    "        f.write(filedata)"
   ]
  },
  {
   "cell_type": "code",
   "execution_count": 8,
   "metadata": {},
   "outputs": [],
   "source": [
    "master_config = \"/home/gsnearing/projects/data_assimilation/master_configs/autoregression_holdout_config.yml\"\n",
    "for seed in seeds:\n",
    "    for lead in lead_times:\n",
    "        for holdout in holdout_fractions:\n",
    "            if lead > 1: continue\n",
    "            with open(master_config, 'r') as f:\n",
    "                filedata = f.read()\n",
    "            filedata = filedata.replace(\"seed:\", f\"seed: {seed}\")\n",
    "            filedata = filedata.replace(\"experiment_name:\", f\"experiment_name: autoregression_{lead}_{holdout}_{seed}\")\n",
    "            filedata = filedata.replace(f\"- xxx1\\n\", f\"- {lead}\\n\")\n",
    "            filedata = filedata.replace(f\"- xxxQObs(mm/d)_shift1\\n\", f\"- QObs(mm/d)_shift{lead}\\n\")\n",
    "            filedata = filedata + f'random_holdout: \\n '\n",
    "            filedata = filedata + f'  QObs(mm/d)_shift{lead}: {holdout} \\n '\n",
    "            new_config = f\"/home/gsnearing/projects/data_assimilation/run_configs/autoregression/autoregression_{lead}_{holdout}_{seed}.yml\"\n",
    "            with open(new_config, 'w') as f:\n",
    "                f.write(filedata)"
   ]
  },
  {
   "cell_type": "code",
   "execution_count": 4,
   "metadata": {},
   "outputs": [],
   "source": [
    "# master_config = \"/home/gsnearing/projects/data_assimilation/master_configs/autoregression_noholdout_config.yml\"\n",
    "# for seed in range(n_seeds):\n",
    "#     for lead in lead_times:\n",
    "#         with open(master_config, 'r') as f:\n",
    "#             filedata = f.read()\n",
    "#         filedata = filedata.replace(\"seed:\", f\"seed: {seed}\")\n",
    "#         filedata = filedata.replace(\"experiment_name:\", f\"experiment_name: autoregression_{lead}_{seed}\")\n",
    "#         filedata = filedata.replace(f\"- xxx1\\n\", f\"- {lead}\\n\")\n",
    "#         filedata = filedata.replace(f\"- xxxQObs(mm/d)_shift1\\n\", f\"- QObs(mm/d)_shift{lead}\\n\")\n",
    "#         filedata = filedata + f'random_holdout: \\n '\n",
    "#         filedata = filedata + f'  QObs(mm/d)_shift{lead}: 0 \\n '\n",
    "#         new_config = f\"/home/gsnearing/projects/data_assimilation/run_configs/autoregression_noholdout/autoregression_config_{lead}_{seed}.yml\"\n",
    "#         with open(new_config, 'w') as f:\n",
    "#             f.write(filedata)"
   ]
  },
  {
   "cell_type": "code",
   "execution_count": 16,
   "metadata": {},
   "outputs": [],
   "source": [
    "from sklearn.model_selection import KFold\n",
    "\n",
    "n_kfold = 10\n",
    "\n",
    "basin_file = Path(\"/home/gsnearing/projects/data_assimilation/531_basin_list.txt\")\n",
    "with basin_file.open('r') as fp:\n",
    "    basins = sorted(basin.strip() for basin in fp if basin.strip())\n",
    "\n",
    "for seed in seeds:\n",
    "    kf = KFold(n_splits=n_kfold, random_state=None, shuffle=True)\n",
    "    for kfold, (train_index, test_index) in enumerate(kf.split(basins)):\n",
    "        train_basin_file = Path(f\"/home/gsnearing/projects/data_assimilation/run_configs/pub/basin_files/train_{kfold}_{seed}.txt\")\n",
    "        test_basin_file = Path(f\"/home/gsnearing/projects/data_assimilation/run_configs/pub/basin_files/test_{kfold}_{seed}.txt\")\n",
    "        with train_basin_file.open('w') as fp:\n",
    "            for idx in train_index:\n",
    "                fp.write(f\"{basins[idx]}\\n\")\n",
    "        with test_basin_file.open('w') as fp:\n",
    "            for idx in test_index:\n",
    "                fp.write(f\"{basins[idx]}\\n\")   "
   ]
  },
  {
   "cell_type": "code",
   "execution_count": 15,
   "metadata": {},
   "outputs": [
    {
     "ename": "TypeError",
     "evalue": "'list' object cannot be interpreted as an integer",
     "output_type": "error",
     "traceback": [
      "\u001b[0;31m---------------------------------------------------------------------------\u001b[0m",
      "\u001b[0;31mTypeError\u001b[0m                                 Traceback (most recent call last)",
      "\u001b[0;32m<ipython-input-15-510ed3cbbe3e>\u001b[0m in \u001b[0;36m<module>\u001b[0;34m\u001b[0m\n\u001b[1;32m      1\u001b[0m \u001b[0mmaster_config\u001b[0m \u001b[0;34m=\u001b[0m \u001b[0;34m\"/home/gsnearing/projects/data_assimilation/master_configs/simulation_config.yml\"\u001b[0m\u001b[0;34m\u001b[0m\u001b[0;34m\u001b[0m\u001b[0m\n\u001b[0;32m----> 2\u001b[0;31m \u001b[0;32mfor\u001b[0m \u001b[0mseed\u001b[0m \u001b[0;32min\u001b[0m \u001b[0mrange\u001b[0m\u001b[0;34m(\u001b[0m\u001b[0mn_seeds\u001b[0m\u001b[0;34m)\u001b[0m\u001b[0;34m:\u001b[0m\u001b[0;34m\u001b[0m\u001b[0;34m\u001b[0m\u001b[0m\n\u001b[0m\u001b[1;32m      3\u001b[0m     \u001b[0;32mfor\u001b[0m \u001b[0mkfold\u001b[0m \u001b[0;32min\u001b[0m \u001b[0mrange\u001b[0m\u001b[0;34m(\u001b[0m\u001b[0mn_kfold\u001b[0m\u001b[0;34m)\u001b[0m\u001b[0;34m:\u001b[0m\u001b[0;34m\u001b[0m\u001b[0;34m\u001b[0m\u001b[0m\n\u001b[1;32m      4\u001b[0m         \u001b[0;32mwith\u001b[0m \u001b[0mopen\u001b[0m\u001b[0;34m(\u001b[0m\u001b[0mmaster_config\u001b[0m\u001b[0;34m,\u001b[0m \u001b[0;34m'r'\u001b[0m\u001b[0;34m)\u001b[0m \u001b[0;32mas\u001b[0m \u001b[0mf\u001b[0m\u001b[0;34m:\u001b[0m\u001b[0;34m\u001b[0m\u001b[0;34m\u001b[0m\u001b[0m\n\u001b[1;32m      5\u001b[0m             \u001b[0mfiledata\u001b[0m \u001b[0;34m=\u001b[0m \u001b[0mf\u001b[0m\u001b[0;34m.\u001b[0m\u001b[0mread\u001b[0m\u001b[0;34m(\u001b[0m\u001b[0;34m)\u001b[0m\u001b[0;34m\u001b[0m\u001b[0;34m\u001b[0m\u001b[0m\n",
      "\u001b[0;31mTypeError\u001b[0m: 'list' object cannot be interpreted as an integer"
     ]
    }
   ],
   "source": [
    "master_config = \"/home/gsnearing/projects/data_assimilation/master_configs/simulation_config.yml\"\n",
    "for seed in range(n_seeds):\n",
    "    for kfold in range(n_kfold):\n",
    "        with open(master_config, 'r') as f:\n",
    "            filedata = f.read()\n",
    "        filedata = filedata.replace(\"seed:\", f\"seed: {seed}\")\n",
    "        filedata = filedata.replace(\"experiment_name:\", f\"experiment_name: pub_simulation_{kfold}_{seed}\")\n",
    "\n",
    "        train_basin_file = f\"/home/gsnearing/projects/data_assimilation/run_configs/pub/basin_files/train_{kfold}_{seed}.txt\"\n",
    "        test_basin_file = f\"/home/gsnearing/projects/data_assimilation/run_configs/pub/basin_files/test_{kfold}_{seed}.txt\"\n",
    "\n",
    "        filedata = filedata.replace(\"train_basin_file: /home/gsnearing/projects/data_assimilation/531_basin_list.txt\",\n",
    "                                   f\"train_basin_file: {train_basin_file}\")\n",
    "\n",
    "        filedata = filedata.replace(\"validation_basin_file: /home/gsnearing/projects/data_assimilation/531_basin_list.txt\",\n",
    "                                   f\"validation_basin_file: {train_basin_file}\")\n",
    "\n",
    "        filedata = filedata.replace(\"test_basin_file: /home/gsnearing/projects/data_assimilation/531_basin_list.txt\",\n",
    "                                   f\"test_basin_file: {test_basin_file}\")\n",
    "\n",
    "        new_config = f\"/home/gsnearing/projects/data_assimilation/run_configs/pub/simulation/pub_simulation_{kfold}_{seed}.yml\"\n",
    "        with open(new_config, 'w') as f:\n",
    "            f.write(filedata)"
   ]
  },
  {
   "cell_type": "code",
   "execution_count": null,
   "metadata": {},
   "outputs": [],
   "source": []
  },
  {
   "cell_type": "code",
   "execution_count": null,
   "metadata": {},
   "outputs": [],
   "source": [
    "# PUB\n",
    "master_config = \"/home/gsnearing/projects/data_assimilation/master_configs/autoregression_pub_config.yml\"\n",
    "for seed in range(n_seeds):\n",
    "    for lead in [1]:\n",
    "        for holdout in [0.5]:\n",
    "            if lead > 1: continue\n",
    "            with open(master_config, 'r') as f:\n",
    "                filedata = f.read()\n",
    "            filedata = filedata.replace(\"seed:\", f\"seed: {seed}\")\n",
    "            filedata = filedata.replace(\"experiment_name:\", f\"experiment_name: pub_autoregression_{lead}_{holdout}_{seed}\")\n",
    "            filedata = filedata.replace(f\"- xxx1\\n\", f\"- {lead}\\n\")\n",
    "            filedata = filedata.replace(f\"- xxxQObs(mm/d)_shift1\\n\", f\"- QObs(mm/d)_shift{lead}\\n\")\n",
    "            filedata = filedata + f'random_holdout: \\n '\n",
    "            filedata = filedata + f'  QObs(mm/d)_shift{lead}: {holdout} \\n '\n",
    "            new_config = f\"/home/gsnearing/projects/data_assimilation/run_configs/pub/autoregression/pub_autoregression_{lead}_{holdout}_{seed}.yml\"\n",
    "            with open(new_config, 'w') as f:\n",
    "                f.write(filedata)"
   ]
  }
 ],
 "metadata": {
  "kernelspec": {
   "display_name": "Python 3",
   "language": "python",
   "name": "python3"
  },
  "language_info": {
   "codemirror_mode": {
    "name": "ipython",
    "version": 3
   },
   "file_extension": ".py",
   "mimetype": "text/x-python",
   "name": "python",
   "nbconvert_exporter": "python",
   "pygments_lexer": "ipython3",
   "version": "3.7.9"
  }
 },
 "nbformat": 4,
 "nbformat_minor": 4
}
